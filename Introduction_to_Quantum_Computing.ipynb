{
  "nbformat": 4,
  "nbformat_minor": 0,
  "metadata": {
    "colab": {
      "provenance": []
    },
    "kernelspec": {
      "name": "python3",
      "display_name": "Python 3"
    },
    "language_info": {
      "name": "python"
    }
  },
  "cells": [
    {
      "cell_type": "markdown",
      "source": [
        "# Introduction to Quantum Computing\n",
        "\n",
        "The following iPython notebooks are meant to supplement the Introduction to Quantum Computing lecture.\n",
        "\n",
        "## Introduction the Quantum Circuit Model\n",
        "\n",
        "This notebook contains summaries and examples of many basic concepts including complex numbers, qubits and the Bloch sphere, measurment, quantum circuits and quantum gates, entanglement, quantum state tomography, simulation, and quantum teleportation.\n",
        "\n",
        "**Notebook:** https://colab.research.google.com/drive/179DDng8VYPTnOhyK7mOfDC1G0f_rPsRe\n",
        "\n",
        "## Examples of Quantum Algorithms\n",
        "\n",
        "This notebook contains descriptions and implementations of various quantum algorithms including:\n",
        "\n",
        "- **Deutsch-Jozsa algorithm** (one of the first examples of a quantum algorithm that provides an exponential speedup)\n",
        "- **Grover's algorithm** (quantum algorithm for unstructured search, which provides a quadratic speedup)\n",
        "- **Quantum phase estimation** (quantum algorithm for determining eigenvalues that is a subroutine for many quantum algorithms including Shor's algorithm for factoring integers)\n",
        "\n",
        "**Notebook:** https://colab.research.google.com/drive/1pVH-9fm-A7zStQ-4LJ8rU29mFt5OVKDY\n",
        "\n",
        "## Example of Quantum Machine Learning\n",
        "\n",
        "This notebook contains a description and implementation of a quantum machine learning example that uses real-world data.\n",
        "\n",
        "**Notebook:** https://colab.research.google.com/drive/1_DozGaejiAbnyOI3nXmpvi6sueBaaMUk"
      ],
      "metadata": {
        "id": "M9ZF-SqL28_F"
      }
    }
  ]
}