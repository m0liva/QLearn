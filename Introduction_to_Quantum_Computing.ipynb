{
 "cells": [
  {
   "cell_type": "markdown",
   "metadata": {
    "id": "M9ZF-SqL28_F"
   },
   "source": [
    "# Introduction to Quantum Computing\n",
    "\n",
    "The following iPython notebooks are meant to supplement the Introduction to Quantum Computing lecture.\n",
    "\n",
    "## Introduction the Quantum Circuit Model\n",
    "\n",
    "This notebook contains summaries and examples of many basic concepts including complex numbers, qubits and the Bloch sphere, measurment, quantum circuits and quantum gates, entanglement, quantum state tomography, simulation, and quantum teleportation.\n",
    "\n",
    "**Notebook:** [Introduction the Quantum Circuit Model notebook](./Introduction_to_the_Quantum_Circuit_Model.ipynb)\n",
    "\n",
    "## Examples of Quantum Algorithms\n",
    "\n",
    "This notebook contains descriptions and implementations of various quantum algorithms including:\n",
    "\n",
    "- **Deutsch-Jozsa algorithm** (one of the first examples of a quantum algorithm that provides an exponential speedup)\n",
    "- **Grover's algorithm** (quantum algorithm for unstructured search, which provides a quadratic speedup)\n",
    "- **Quantum phase estimation** (quantum algorithm for determining eigenvalues that is a subroutine for many quantum algorithms including Shor's algorithm for factoring integers)\n",
    "\n",
    "**Notebook:** [Example of quantum algorithms notebook](./Examples_of_Quantum_Algorithms.ipynb)\n",
    "\n",
    "## Example of Quantum Machine Learning\n",
    "\n",
    "This notebook contains a description and implementation of a quantum machine learning example that uses real-world data.\n",
    "\n",
    "**Notebook:** [QML demo](./QML_demo.ipynb)"
   ]
  }
 ],
 "metadata": {
  "colab": {
   "provenance": []
  },
  "kernelspec": {
   "display_name": "Python 3 (ipykernel)",
   "language": "python",
   "name": "python3"
  },
  "language_info": {
   "codemirror_mode": {
    "name": "ipython",
    "version": 3
   },
   "file_extension": ".py",
   "mimetype": "text/x-python",
   "name": "python",
   "nbconvert_exporter": "python",
   "pygments_lexer": "ipython3",
   "version": "3.12.10"
  }
 },
 "nbformat": 4,
 "nbformat_minor": 4
}
